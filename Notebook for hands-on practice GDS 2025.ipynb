{
 "cells": [
  {
   "cell_type": "markdown",
   "id": "d6588227",
   "metadata": {},
   "source": [
    "**About Dataset**\n",
    "\n",
    "This dataset contains information on the relationship between personal attributes (age, gender, BMI, family size, smoking habits), geographic factors, and their impact on medical insurance charges. It can be used to study how these features influence insurance costs.\n",
    "\n",
    "Age: The insured person's age.\n",
    "\n",
    "Sex: Gender (male or female) of the insured.\n",
    "\n",
    "BMI (Body Mass Index): A measure of body fat based on height and weight.\n",
    "\n",
    "Children: The number of dependents covered.\n",
    "\n",
    "Smoker: Whether the insured is a smoker (yes or no).\n",
    "\n",
    "Region: The geographic area of coverage.\n",
    "\n",
    "Charges: The medical insurance costs incurred by the insured person."
   ]
  },
  {
   "cell_type": "markdown",
   "id": "0e699954",
   "metadata": {},
   "source": [
    "**Loading Dataset and importing Libraries**"
   ]
  },
  {
   "cell_type": "code",
   "execution_count": null,
   "id": "f47eed11",
   "metadata": {},
   "outputs": [],
   "source": [
    "import pandas as pd\n",
    "import numpy as np\n",
    "import matplotlib.pyplot as plt\n",
    "import seaborn as sns\n",
    "from scipy import stats # For t-tests\n",
    "from scipy.stats import chi2_contingency # For chi-square test\n",
    "# Load the dataset\n",
    "df = pd.read_csv(r\"C:\\Users\\OWNER\\Desktop\\project for GDS 2025\\insurance.csv\")\n",
    "df.drop(columns = 'region', inplace= True)\n"
   ]
  },
  {
   "cell_type": "markdown",
   "id": "56df9474",
   "metadata": {},
   "source": [
    "**Descriptive Statistics**"
   ]
  },
  {
   "cell_type": "code",
   "execution_count": null,
   "id": "2753c7c4",
   "metadata": {},
   "outputs": [],
   "source": [
    "# Display the first few rows of the DataFrame. By default, this will show the first 5 rows, but here we specify 10 rows.\n",
    "df.head(10)"
   ]
  },
  {
   "cell_type": "code",
   "execution_count": null,
   "id": "371a3287",
   "metadata": {},
   "outputs": [],
   "source": [
    "# We check for the presence of missing values in the columns and count them. This is a strategy for understanding data quality.\n",
    "df.isna().sum()"
   ]
  },
  {
   "cell_type": "code",
   "execution_count": null,
   "id": "910db4a5",
   "metadata": {},
   "outputs": [],
   "source": [
    "#We find the summary statistics of the DataFrame, which gives us a quick overview of the numerical columns.\n",
    "print(\"Summary Statistics:\")\n",
    "print(df.describe())\n",
    "\n"
   ]
  },
  {
   "cell_type": "code",
   "execution_count": null,
   "id": "43d9e158",
   "metadata": {},
   "outputs": [],
   "source": [
    "# For categorical columns, we can look at value counts\n",
    "print(\"\\nValue counts for 'sex':\")\n",
    "print(df['sex'].value_counts())\n",
    "print(\"\\nValue counts for 'smoker':\")\n",
    "print(df['smoker'].value_counts())\n",
    "print(\"\\nValue counts for 'region':\")\n",
    "\n",
    "# Defining our categorical columns\n",
    "categorical_cols = ['sex', 'smoker']\n",
    "\n",
    "# Determining the number of subplots needed.\n",
    "num_cols = len(categorical_cols)\n",
    "# Create 1 row, num_cols columns of subplots with a specified figure size\n",
    "fig, axes = plt.subplots(1, num_cols, figsize=(15, 5))\n",
    "\n",
    "# Ensure axes is an array even if num_cols is 1, to simplify iteration\n",
    "if num_cols == 1:\n",
    "    axes = [axes]\n",
    "\n",
    "# Loop through each categorical column and create a bar chart on its own subplot\n",
    "for i, col in enumerate(categorical_cols):\n",
    "    # Get the value counts for the current column\n",
    "    value_counts = df[col].value_counts()\n",
    "\n",
    "    # Plot a bar chart on the i-th subplot\n",
    "    # ax=axes[i] links the plot to the specific subplot\n",
    "    value_counts.plot(kind='bar', ax=axes[i], color='purple')\n",
    "\n",
    "    # Set the title for the current subplot\n",
    "    axes[i].set_title(f'Value Counts for \"{col}\"')\n",
    "\n",
    "    # Set the y-axis label\n",
    "    axes[i].set_ylabel('Count')\n",
    "\n",
    "    # Rotate x-axis labels for better readability, especially if categories are long\n",
    "    axes[i].tick_params(axis='x', rotation=0)\n",
    "\n",
    "# Adjust layout to prevent titles/labels from overlapping\n",
    "plt.tight_layout()\n",
    "\n",
    "# Display the plots\n",
    "plt.show()\n",
    "\n",
    "# Optionally, print the numerical value counts as well\n",
    "print(\"\\n--- Numerical Value Counts ---\")\n",
    "for col in categorical_cols:\n",
    "    print(f\"\\nValue counts for '{col}':\")\n",
    "    print(df[col].value_counts())\n"
   ]
  },
  {
   "cell_type": "markdown",
   "id": "ff7346a9",
   "metadata": {},
   "source": [
    "Grouping by various variables in the Dataframe (Basically setting them as the first columns by which other metrics are computed)"
   ]
  },
  {
   "cell_type": "code",
   "execution_count": null,
   "id": "c0ae01a7",
   "metadata": {},
   "outputs": [],
   "source": [
    "df.groupby('sex').charges.agg(['sum', 'mean', 'median', 'std', 'var'])\n",
    "#df.groupby('smoker').charges.agg(['sum', 'mean', 'median', 'std', 'var'])\n",
    "#df.groupby('age').charges.agg(['sum', 'mean', 'median', 'std', 'var'])\n",
    "#Comments on the above code:"
   ]
  },
  {
   "cell_type": "markdown",
   "id": "97fbd7a3",
   "metadata": {},
   "source": [
    "**Probability Distributions**"
   ]
  },
  {
   "cell_type": "code",
   "execution_count": null,
   "id": "94fd375e",
   "metadata": {},
   "outputs": [],
   "source": [
    "\n",
    "print(\"\\n Visualizing Distributions \")\n",
    "\n",
    "plt.figure(figsize=(15, 5))\n",
    "\n",
    "# Distribution of Age\n",
    "plt.subplot(1, 3, 1)\n",
    "sns.histplot(df['age'], kde=True, color='skyblue', bins=15)\n",
    "plt.title('Distribution of Age')\n",
    "plt.xlabel('Age')\n",
    "plt.ylabel('Frequency / Density')\n",
    "plt.grid(axis='y', alpha=0.75)\n",
    "\n",
    "# Distribution of BMI\n",
    "plt.subplot(1, 3, 2)\n",
    "sns.histplot(df['bmi'], kde=True, color='lightcoral', bins=15)\n",
    "plt.title('Distribution of BMI')\n",
    "plt.xlabel('BMI')\n",
    "plt.ylabel('Frequency / Density')\n",
    "plt.grid(axis='y', alpha=0.75)\n",
    "\n",
    "# Distribution of Charges (often right-skewed)\n",
    "plt.subplot(1, 3, 3)\n",
    "sns.histplot(df['charges'], kde=True, color='lightgreen', bins=20)\n",
    "plt.title('Distribution of Charges')\n",
    "plt.xlabel('Charges')\n",
    "plt.ylabel('Frequency / Density')\n",
    "plt.grid(axis='y', alpha=0.75)\n",
    "\n",
    "plt.tight_layout()\n",
    "plt.show()\n"
   ]
  },
  {
   "cell_type": "markdown",
   "id": "f937df18",
   "metadata": {},
   "source": [
    "Underweight: Less than 18.5 kg/m \n",
    "2\n",
    " \n",
    "\n",
    "Normal (Healthy) weight: 18.5 to 24.9 kg/m \n",
    "2\n",
    " \n",
    "\n",
    "Overweight: 25.0 to 29.9 kg/m \n",
    "2\n",
    " \n",
    "\n",
    "Obese (Class I): 30.0 to 34.9 kg/m \n",
    "2\n",
    " \n",
    "\n",
    "Obese (Class II): 35.0 to 39.9 kg/m \n",
    "2\n",
    " \n",
    "\n",
    "Obese (Class III): 40.0 kg/m \n",
    "2\n",
    "  or greater (also known as Morbidly Obese)"
   ]
  },
  {
   "cell_type": "markdown",
   "id": "d667866b",
   "metadata": {},
   "source": [
    "**Confidence Intervals Demo**"
   ]
  },
  {
   "cell_type": "code",
   "execution_count": null,
   "id": "2bf663c0",
   "metadata": {},
   "outputs": [],
   "source": [
    "\n",
    "\n",
    "\n",
    "# Confidence Interval for the Mean of 'Charges'\n",
    "# We'll use a 95% confidence level.\n",
    "\n",
    "sample_mean_charges = df['charges'].mean()\n",
    "sample_std_charges = df['charges'].std()\n",
    "sample_size_charges = len(df['charges'])\n",
    "\n",
    "# Degrees of freedom for t-distribution (sample size - 1)\n",
    "degrees_freedom = sample_size_charges - 1\n",
    "\n",
    "# Calculate the standard error of the mean (SEM)\n",
    "sem_charges = sample_std_charges / np.sqrt(sample_size_charges)\n",
    "\n",
    "# Calculate the confidence interval using scipy.stats.t.interval\n",
    "# alpha = 0.95 for 95% CI\n",
    "confidence_level = 0.95\n",
    "lower_bound, upper_bound = stats.t.interval(\n",
    "    confidence_level,\n",
    "    degrees_freedom,\n",
    "    loc=sample_mean_charges,\n",
    "    scale=sem_charges\n",
    ")\n",
    "\n",
    "print(f\"\\nSample Mean of Charges: {sample_mean_charges:,.2f}\")\n",
    "print(f\"Sample Standard Deviation of Charges: {sample_std_charges:,.2f}\")\n",
    "print(f\"Sample Size: {sample_size_charges}\")\n",
    "print(f\"Standard Error of the Mean (SEM):{sem_charges:,.2f}\")\n",
    "print(f\"95% Confidence Interval for Mean Charges: ({lower_bound:,.2f}, {upper_bound:,.2f})\")"
   ]
  },
  {
   "cell_type": "markdown",
   "id": "5eeb4bc0",
   "metadata": {},
   "source": [
    "**Hypothesis Testing Demo**"
   ]
  },
  {
   "cell_type": "code",
   "execution_count": null,
   "id": "f804dfe3",
   "metadata": {},
   "outputs": [],
   "source": [
    "\n",
    "#Independent Samples t-test\n",
    "print(\"\\nIndependent Samples t-test: Smoker vs. Non-Smoker Charges\")\n",
    "\n",
    "# Hypothesis: Do smokers incur significantly different medical charges than non-smokers?\n",
    "# Null Hypothesis (H0): The mean charges for smokers are equal to the mean charges for non-smokers.\n",
    "# Alternative Hypothesis (H1): The mean charges for smokers are different from the mean charges for non-smokers.\n",
    "\n",
    "# Separate the data into two groups based on 'smoker' status\n",
    "smoker_charges = df[df['smoker'] == 'yes']['charges']\n",
    "non_smoker_charges = df[df['smoker'] == 'no']['charges']\n",
    "\n",
    "print(f\"Mean charges for smokers: ${smoker_charges.mean():,.2f} (n={len(smoker_charges)})\")\n",
    "print(f\"Mean charges for non-smokers: ${non_smoker_charges.mean():,.2f} (n={len(non_smoker_charges)})\")\n",
    "\n",
    "# Perform the independent samples t-test\n",
    "# `equal_var=False` is often recommended when sample sizes or standard deviations are very different (Welch's t-test)\n",
    "t_stat, p_value = stats.ttest_ind(smoker_charges, non_smoker_charges, equal_var=False)\n",
    "\n",
    "print(f\"\\nT-statistic: {t_stat:.3f}\")\n",
    "print(f\"P-value: {p_value:.3e}\") # Using scientific notation for small p-values\n",
    "\n",
    "# Decision rule (e.g., alpha = 0.05)\n",
    "alpha = 0.05\n",
    "if p_value < alpha:\n",
    "    print(f\"Since p-value ({p_value:.3e}) < alpha ({alpha}), we reject the null hypothesis.\")\n",
    "    print(\"Conclusion: There is a statistically significant difference in mean medical charges between smokers and non-smokers.\")\n",
    "else:\n",
    "    print(f\"Since p-value ({p_value:.3e}) >= alpha ({alpha}), we fail to reject the null hypothesis.\")\n",
    "    print(\"Conclusion: There is no statistically significant difference in mean medical charges between smokers and non-smokers.\")\n",
    "\n"
   ]
  },
  {
   "cell_type": "code",
   "execution_count": null,
   "id": "12a01f12",
   "metadata": {},
   "outputs": [],
   "source": [
    "# --- Chi-square Test for Independence ---\n",
    "print(\"--- Chi-square Test for Independence: Sex and Smoker Status ---\")\n",
    "\n",
    "# Hypothesis: Is there a relationship (dependence) between a person's sex and whether they are a smoker?\n",
    "# Null Hypothesis (H0): Sex and Smoker status are independent (no relationship).\n",
    "# Alternative Hypothesis (H1): Sex and Smoker status are dependent (there is a relationship).\n",
    "\n",
    "# Create a contingency table (cross-tabulation)\n",
    "contingency_table = pd.crosstab(df['sex'], df['smoker'])\n",
    "print(\"\\nContingency Table (Sex vs. Smoker):\")\n",
    "print(contingency_table)\n",
    "\n",
    "# Perform the Chi-square test\n",
    "chi2, p_value_chi2, dof, expected = chi2_contingency(contingency_table)\n",
    "\n",
    "print(f\"\\nChi-square statistic: {chi2:.3f}\")\n",
    "print(f\"P-value: {p_value_chi2:.3f}\")\n",
    "print(f\"Degrees of Freedom: {dof}\")\n",
    "# print(\"Expected Frequencies Table:\")\n",
    "# print(pd.DataFrame(expected, index=contingency_table.index, columns=contingency_table.columns))\n",
    "\n",
    "# Decision rule (e.g., alpha = 0.05)\n",
    "alpha = 0.05\n",
    "if p_value_chi2 < alpha:\n",
    "    print(f\"Since p-value ({p_value_chi2:.3f}) < alpha ({alpha}), we reject the null hypothesis.\")\n",
    "    print(\"Conclusion: There is a statistically significant association between sex and smoker status.\")\n",
    "else:\n",
    "    print(f\"Since p-value ({p_value_chi2:.3f}) >= alpha ({alpha}), we fail to reject the null hypothesis.\")\n",
    "    print(\"Conclusion: There is no statistically significant association between sex and smoker status.\")\n"
   ]
  }
 ],
 "metadata": {
  "kernelspec": {
   "display_name": "Python 3",
   "language": "python",
   "name": "python3"
  },
  "language_info": {
   "codemirror_mode": {
    "name": "ipython",
    "version": 3
   },
   "file_extension": ".py",
   "mimetype": "text/x-python",
   "name": "python",
   "nbconvert_exporter": "python",
   "pygments_lexer": "ipython3",
   "version": "3.13.3"
  }
 },
 "nbformat": 4,
 "nbformat_minor": 5
}
